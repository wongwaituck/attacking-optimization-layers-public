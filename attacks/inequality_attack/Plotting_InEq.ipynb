{
 "cells": [
  {
   "cell_type": "code",
   "execution_count": 80,
   "id": "a0b096fb",
   "metadata": {},
   "outputs": [
    {
     "data": {
      "application/vnd.jupyter.widget-view+json": {
       "model_id": "5b0aa6945add42a6a91be0dc42eda6ca",
       "version_major": 2,
       "version_minor": 0
      },
      "text/plain": [
       "Canvas(toolbar=Toolbar(toolitems=[('Home', 'Reset original view', 'home', 'home'), ('Back', 'Back to previous …"
      ]
     },
     "metadata": {},
     "output_type": "display_data"
    }
   ],
   "source": [
    "#[:-16]\n",
    "from fillplots import plot_regions\n",
    "%matplotlib widget\n",
    "plotter = plot_regions([\n",
    "    [(lambda x: 0.824180895*x - 3.2496539, True),  # x ^ 2 > 0 and\n",
    "     (lambda x: 0.911606457*x - 2.13374327,)],  # x + 5 > 0\n",
    "], xlim=(-30, -10), ylim=(-30, -13))\n",
    "plotter.plot()"
   ]
  },
  {
   "cell_type": "code",
   "execution_count": 89,
   "id": "efedc9e7",
   "metadata": {},
   "outputs": [
    {
     "data": {
      "application/vnd.jupyter.widget-view+json": {
       "model_id": "299db6c4b2c84838bbcfdf93f82ccd2b",
       "version_major": 2,
       "version_minor": 0
      },
      "text/plain": [
       "Canvas(toolbar=Toolbar(toolitems=[('Home', 'Reset original view', 'home', 'home'), ('Back', 'Back to previous …"
      ]
     },
     "metadata": {},
     "output_type": "display_data"
    }
   ],
   "source": [
    "from fillplots import plot_regions\n",
    "%matplotlib widget\n",
    "plotter = plot_regions([\n",
    "    [(lambda x: 0.824180895*x - 3.2496539, True),  # x ^ 2 > 0 and\n",
    "     (lambda x: 0.911606457*x - 2.13374327,)],  # x + 5 > 0\n",
    "], xlim=(-30, -27), ylim=(-29.5, -27.5))\n",
    "plotter.plot()"
   ]
  },
  {
   "cell_type": "code",
   "execution_count": 82,
   "id": "8d046cc8",
   "metadata": {
    "scrolled": true
   },
   "outputs": [
    {
     "data": {
      "application/vnd.jupyter.widget-view+json": {
       "model_id": "518ab25483e54d57ac0b51706f871e5c",
       "version_major": 2,
       "version_minor": 0
      },
      "text/plain": [
       "Canvas(toolbar=Toolbar(toolitems=[('Home', 'Reset original view', 'home', 'home'), ('Back', 'Back to previous …"
      ]
     },
     "metadata": {},
     "output_type": "display_data"
    }
   ],
   "source": [
    "#[:-15]\n",
    "from fillplots import plot_regions\n",
    "%matplotlib widget\n",
    "plotter = plot_regions([\n",
    "    [(lambda x: (363./436)*x - (689./218), True),  # x ^ 2 > 0 and\n",
    "     (lambda x: (3485./3861)*x - (8389./3861),)],  # x + 5 > 0\n",
    "], xlim=(-30, -10), ylim=(-29.5, -13))\n",
    "plotter.plot()"
   ]
  },
  {
   "cell_type": "code",
   "execution_count": 83,
   "id": "1bcab925",
   "metadata": {},
   "outputs": [
    {
     "data": {
      "application/vnd.jupyter.widget-view+json": {
       "model_id": "53c2339f917f4640812a44ad75f82635",
       "version_major": 2,
       "version_minor": 0
      },
      "text/plain": [
       "Canvas(toolbar=Toolbar(toolitems=[('Home', 'Reset original view', 'home', 'home'), ('Back', 'Back to previous …"
      ]
     },
     "metadata": {},
     "output_type": "display_data"
    }
   ],
   "source": [
    "from fillplots import plot_regions\n",
    "%matplotlib widget\n",
    "plotter = plot_regions([\n",
    "    [(lambda x: (363./436)*x - (689./218), True),  # x ^ 2 > 0 and\n",
    "     (lambda x: (3485./3861)*x - (8389./3861),)],  # x + 5 > 0\n",
    "], xlim=(-30, -27), ylim=(-29.5, -27.5))\n",
    "plotter.plot()"
   ]
  },
  {
   "cell_type": "code",
   "execution_count": 84,
   "id": "60e79679",
   "metadata": {},
   "outputs": [
    {
     "data": {
      "application/vnd.jupyter.widget-view+json": {
       "model_id": "569dac6864734bdd9a1a7c0e5b14ba67",
       "version_major": 2,
       "version_minor": 0
      },
      "text/plain": [
       "Canvas(toolbar=Toolbar(toolitems=[('Home', 'Reset original view', 'home', 'home'), ('Back', 'Back to previous …"
      ]
     },
     "metadata": {},
     "output_type": "display_data"
    }
   ],
   "source": [
    "#[:-14]\n",
    "from fillplots import plot_regions\n",
    "%matplotlib widget\n",
    "plotter = plot_regions([\n",
    "    [(lambda x: 0.852848811*x - 2.8739345, True),  # x ^ 2 > 0 and\n",
    "     (lambda x: 0.873489122*x - 2.30620467,)],  # x + 5 > 0\n",
    "], xlim=(-30, -10), ylim=(-30, -13))\n",
    "plotter.plot()"
   ]
  },
  {
   "cell_type": "code",
   "execution_count": 87,
   "id": "3db61da5",
   "metadata": {},
   "outputs": [
    {
     "data": {
      "application/vnd.jupyter.widget-view+json": {
       "model_id": "1505c7beef95464fbcc7b9d864a25b28",
       "version_major": 2,
       "version_minor": 0
      },
      "text/plain": [
       "Canvas(toolbar=Toolbar(toolitems=[('Home', 'Reset original view', 'home', 'home'), ('Back', 'Back to previous …"
      ]
     },
     "metadata": {},
     "output_type": "display_data"
    }
   ],
   "source": [
    "from fillplots import plot_regions\n",
    "%matplotlib widget\n",
    "plotter = plot_regions([\n",
    "    [(lambda x: 0.852848811*x - 2.8739345, True),  # x ^ 2 > 0 and\n",
    "     (lambda x: 0.873489122*x - 2.30620467,)],  # x + 5 > 0\n",
    "], xlim=(-30, -27), ylim=(-29.5, -27.5))\n",
    "plotter.plot()"
   ]
  },
  {
   "cell_type": "code",
   "execution_count": 86,
   "id": "1d9f0f16",
   "metadata": {},
   "outputs": [
    {
     "data": {
      "application/vnd.jupyter.widget-view+json": {
       "model_id": "586054f9a2384aa28041d4c2221fcf44",
       "version_major": 2,
       "version_minor": 0
      },
      "text/plain": [
       "Canvas(toolbar=Toolbar(toolitems=[('Home', 'Reset original view', 'home', 'home'), ('Back', 'Back to previous …"
      ]
     },
     "metadata": {},
     "output_type": "display_data"
    }
   ],
   "source": [
    "#[:-13]\n",
    "from fillplots import plot_regions\n",
    "%matplotlib widget\n",
    "plotter = plot_regions([\n",
    "    [(lambda x: (1970./2333)*x - (5848./2333), True),  # x ^ 2 > 0 and\n",
    "     (lambda x: (3003./3559)*x - (8756./3559),)],  # x + 5 > 0\n",
    "], xlim=(-30, -10), ylim=(-30, -13))\n",
    "plotter.plot()"
   ]
  },
  {
   "cell_type": "code",
   "execution_count": 88,
   "id": "33848fe5",
   "metadata": {},
   "outputs": [
    {
     "data": {
      "application/vnd.jupyter.widget-view+json": {
       "model_id": "5ad6820e3b4d4df887393b4de07ff471",
       "version_major": 2,
       "version_minor": 0
      },
      "text/plain": [
       "Canvas(toolbar=Toolbar(toolitems=[('Home', 'Reset original view', 'home', 'home'), ('Back', 'Back to previous …"
      ]
     },
     "metadata": {},
     "output_type": "display_data"
    }
   ],
   "source": [
    "from fillplots import plot_regions\n",
    "%matplotlib widget\n",
    "plotter = plot_regions([\n",
    "    [(lambda x: (1970./2333)*x - (5848./2333), True),  # x ^ 2 > 0 and\n",
    "     (lambda x: (3003./3559)*x - (8756./3559),)],  # x + 5 > 0\n",
    "], xlim=(-30, -27), ylim=(-29.5, -27.5))\n",
    "plotter.plot()"
   ]
  },
  {
   "cell_type": "code",
   "execution_count": null,
   "id": "dc60d7ae",
   "metadata": {},
   "outputs": [],
   "source": []
  }
 ],
 "metadata": {
  "kernelspec": {
   "display_name": "Python 3",
   "language": "python",
   "name": "python3"
  },
  "language_info": {
   "codemirror_mode": {
    "name": "ipython",
    "version": 3
   },
   "file_extension": ".py",
   "mimetype": "text/x-python",
   "name": "python",
   "nbconvert_exporter": "python",
   "pygments_lexer": "ipython3",
   "version": "3.7.9"
  }
 },
 "nbformat": 4,
 "nbformat_minor": 5
}
